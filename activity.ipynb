{
 "cells": [
  {
   "cell_type": "code",
   "execution_count": 2,
   "id": "082fba2c",
   "metadata": {},
   "outputs": [
    {
     "name": "stdout",
     "output_type": "stream",
     "text": [
      "Requirement already satisfied: requests in c:\\users\\home\\anaconda3\\lib\\site-packages (2.27.1)\n",
      "Requirement already satisfied: charset-normalizer~=2.0.0 in c:\\users\\home\\anaconda3\\lib\\site-packages (from requests) (2.0.4)\n",
      "Requirement already satisfied: certifi>=2017.4.17 in c:\\users\\home\\anaconda3\\lib\\site-packages (from requests) (2021.10.8)\n",
      "Requirement already satisfied: idna<4,>=2.5 in c:\\users\\home\\anaconda3\\lib\\site-packages (from requests) (3.3)\n",
      "Requirement already satisfied: urllib3<1.27,>=1.21.1 in c:\\users\\home\\anaconda3\\lib\\site-packages (from requests) (1.26.9)\n",
      "Note: you may need to restart the kernel to use updated packages.\n"
     ]
    }
   ],
   "source": [
    "pip install requests"
   ]
  },
  {
   "cell_type": "code",
   "execution_count": 3,
   "id": "3e34f169",
   "metadata": {},
   "outputs": [
    {
     "name": "stdout",
     "output_type": "stream",
     "text": [
      "Collecting bs4\n",
      "  Downloading bs4-0.0.1.tar.gz (1.1 kB)\n",
      "Requirement already satisfied: beautifulsoup4 in c:\\users\\home\\anaconda3\\lib\\site-packages (from bs4) (4.11.1)\n",
      "Requirement already satisfied: soupsieve>1.2 in c:\\users\\home\\anaconda3\\lib\\site-packages (from beautifulsoup4->bs4) (2.3.1)\n",
      "Building wheels for collected packages: bs4\n",
      "  Building wheel for bs4 (setup.py): started\n",
      "  Building wheel for bs4 (setup.py): finished with status 'done'\n",
      "  Created wheel for bs4: filename=bs4-0.0.1-py3-none-any.whl size=1272 sha256=2c37cc490e1a58fb5d1ea33ac39f827dea85bb9b292cdcd24e11c21bf23b641c\n",
      "  Stored in directory: c:\\users\\home\\appdata\\local\\pip\\cache\\wheels\\73\\2b\\cb\\099980278a0c9a3e57ff1a89875ec07bfa0b6fcbebb9a8cad3\n",
      "Successfully built bs4\n",
      "Installing collected packages: bs4\n",
      "Successfully installed bs4-0.0.1\n",
      "Note: you may need to restart the kernel to use updated packages.\n"
     ]
    }
   ],
   "source": [
    "pip install bs4"
   ]
  },
  {
   "cell_type": "code",
   "execution_count": 1,
   "id": "6dc9d171",
   "metadata": {},
   "outputs": [],
   "source": [
    "import requests\n",
    "from bs4 import BeautifulSoup"
   ]
  },
  {
   "cell_type": "code",
   "execution_count": 34,
   "id": "d05512a7",
   "metadata": {},
   "outputs": [],
   "source": [
    "def get_topic_imgs(content):\n",
    "    selection_class = '_1fQZEK' \n",
    "    topic_imgs_tags = content.find_all('a', {'class': selection_class})\n",
    "    topic_imgs = []\n",
    "    for tag in topic_imgs_tags:\n",
    "        if tag.img:topic_imgs.append(tag.img[\"src\"])\n",
    "    return topic_imgs\n",
    "\n",
    "\n",
    "#mb_images_link"
   ]
  },
  {
   "cell_type": "code",
   "execution_count": 61,
   "id": "1e2904d4",
   "metadata": {},
   "outputs": [
    {
     "name": "stdout",
     "output_type": "stream",
     "text": [
      "enter no. of pages1\n"
     ]
    }
   ],
   "source": [
    "mb_name=[]\n",
    "mb_price=[]\n",
    "mb_configuration_details=[]\n",
    "mb_images_link=[]\n",
    "\n",
    "page_num = input('enter no. of pages')\n",
    "for i in range(1,int(page_num)+1):\n",
    "    url = \"https://www.flipkart.com/mobiles/pr?sid=tyy%2C4io&marketplace=FLIPKART&page=\" + str(i)\n",
    "    req=requests.get(url)\n",
    "    content=BeautifulSoup(req.content,'html.parser')\n",
    "    \n",
    "    name=content.find_all('div',{\"class\":\"_4rR01T\"})\n",
    "    price=content.find_all('div',{\"class\":\"_30jeq3 _1_WHN1\"})\n",
    "    configuration_details = content.find_all('span',{\"class\":\"_2_R_DZ\"}) \n",
    "    mb_images_link = get_topic_imgs(content)  \n",
    "    battery = content.find_all('li',{\"class\":\"rgWa7D\"})[3].text\n",
    "    \n",
    "    \n",
    "    for i in name:\n",
    "        mb_name.append(i.text)\n",
    "    for i in price:\n",
    "        mb_price.append(i.text)\n",
    "    for i in configuration_details:\n",
    "        mb_configuration_details.append(i.text)\n",
    "    \n",
    "    \n",
    "    \n",
    "    \n",
    "    \n",
    "    "
   ]
  },
  {
   "cell_type": "code",
   "execution_count": 62,
   "id": "d79e1a5a",
   "metadata": {},
   "outputs": [
    {
     "name": "stdout",
     "output_type": "stream",
     "text": [
      "24\n",
      "24\n",
      "24\n",
      "24\n",
      "32\n"
     ]
    }
   ],
   "source": [
    "print(len(mb_name))\n",
    "print(len(mb_price))\n",
    "print(len(mb_images_link))\n",
    "print(len(mb_configuration_details))\n",
    "\n"
   ]
  },
  {
   "cell_type": "code",
   "execution_count": 41,
   "id": "afb84ef7",
   "metadata": {},
   "outputs": [],
   "source": [
    "import pandas as pd\n",
    "df=pd.DataFrame({'Product Name':mb_name,'configuration_details':mb_configuration_details,'image_links':mb_images_link,'Price':mb_price})"
   ]
  },
  {
   "cell_type": "code",
   "execution_count": 241,
   "id": "ef298f47",
   "metadata": {},
   "outputs": [
    {
     "name": "stdout",
     "output_type": "stream",
     "text": [
      "Requirement already satisfied: openpyxl in c:\\users\\home\\anaconda3\\lib\\site-packages (3.0.9)\n",
      "Requirement already satisfied: et-xmlfile in c:\\users\\home\\anaconda3\\lib\\site-packages (from openpyxl) (1.1.0)\n",
      "Note: you may need to restart the kernel to use updated packages.\n"
     ]
    }
   ],
   "source": [
    "pip install openpyxl"
   ]
  },
  {
   "cell_type": "code",
   "execution_count": 42,
   "id": "745a6e45",
   "metadata": {},
   "outputs": [],
   "source": [
    "df.to_excel(r'C:\\Users\\home\\OneDrive\\Documents\\py\\project.xlsx', sheet_name='Sheet_name_1')"
   ]
  },
  {
   "cell_type": "code",
   "execution_count": 245,
   "id": "37828c07",
   "metadata": {},
   "outputs": [],
   "source": []
  },
  {
   "cell_type": "code",
   "execution_count": null,
   "id": "fb1ab512",
   "metadata": {},
   "outputs": [],
   "source": []
  }
 ],
 "metadata": {
  "kernelspec": {
   "display_name": "Python 3 (ipykernel)",
   "language": "python",
   "name": "python3"
  },
  "language_info": {
   "codemirror_mode": {
    "name": "ipython",
    "version": 3
   },
   "file_extension": ".py",
   "mimetype": "text/x-python",
   "name": "python",
   "nbconvert_exporter": "python",
   "pygments_lexer": "ipython3",
   "version": "3.9.12"
  }
 },
 "nbformat": 4,
 "nbformat_minor": 5
}
